{
  "cells": [
    {
      "cell_type": "markdown",
      "metadata": {
        "colab_type": "text",
        "id": "view-in-github"
      },
      "source": [
        "<a href=\"https://colab.research.google.com/github/mrdbourke/pytorch-deep-learning/blob/main/extras/exercises/01_pytorch_workflow_exercises.ipynb\" target=\"_parent\"><img src=\"https://colab.research.google.com/assets/colab-badge.svg\" alt=\"Open In Colab\"/></a>"
      ]
    },
    {
      "cell_type": "markdown",
      "metadata": {
        "id": "N8LsPXZti9Sw"
      },
      "source": [
        "# 01. PyTorch Workflow Exercise Template\n",
        "\n",
        "The following is a template for the PyTorch workflow exercises.\n",
        "\n",
        "It's only starter code and it's your job to fill in the blanks.\n",
        "\n",
        "Because of the flexibility of PyTorch, there may be more than one way to answer the question.\n",
        "\n",
        "Don't worry about trying to be *right* just try writing code that suffices the question.\n",
        "\n",
        "You can see one form of [solutions on GitHub](https://github.com/mrdbourke/pytorch-deep-learning/tree/main/extras/solutions) (but try the exercises below yourself first!)."
      ]
    },
    {
      "cell_type": "code",
      "execution_count": 1,
      "metadata": {
        "id": "Glu2fM4dkNlx"
      },
      "outputs": [],
      "source": [
        "# Import necessary libraries\n",
        "import torch\n",
        "from torch import nn\n",
        "\n",
        "import torch.optim as optim\n",
        "\n",
        "import matplotlib.pyplot as plt"
      ]
    },
    {
      "cell_type": "code",
      "execution_count": 2,
      "metadata": {
        "id": "LqKhXY26m31s"
      },
      "outputs": [
        {
          "name": "stdout",
          "output_type": "stream",
          "text": [
            "mps\n"
          ]
        }
      ],
      "source": [
        "# Setup device-agnostic code\n",
        "device = (\n",
        "    torch.device(\"mps\") if torch.backends.mps.is_available()\n",
        "    else torch.device(\"cuda\") if torch.cuda.is_available()\n",
        "    else torch.device(\"cpu\")\n",
        ")\n",
        "\n",
        "print(device)"
      ]
    },
    {
      "cell_type": "markdown",
      "metadata": {
        "id": "g7HUhxCxjeBx"
      },
      "source": [
        "## 1. Create a straight line dataset using the linear regression formula (`weight * X + bias`).\n",
        "  * Set `weight=0.3` and `bias=0.9` there should be at least 100 datapoints total. \n",
        "  * Split the data into 80% training, 20% testing.\n",
        "  * Plot the training and testing data so it becomes visual.\n",
        "\n",
        "Your output of the below cell should look something like:\n",
        "```\n",
        "Number of X samples: 100\n",
        "Number of y samples: 100\n",
        "First 10 X & y samples:\n",
        "X: tensor([0.0000, 0.0100, 0.0200, 0.0300, 0.0400, 0.0500, 0.0600, 0.0700, 0.0800,\n",
        "        0.0900])\n",
        "y: tensor([0.9000, 0.9030, 0.9060, 0.9090, 0.9120, 0.9150, 0.9180, 0.9210, 0.9240,\n",
        "        0.9270])\n",
        "```\n",
        "\n",
        "Of course the numbers in `X` and `y` may be different but ideally they're created using the linear regression formula."
      ]
    },
    {
      "cell_type": "code",
      "execution_count": 3,
      "metadata": {
        "id": "KbDG5MV7jhvE"
      },
      "outputs": [
        {
          "name": "stdout",
          "output_type": "stream",
          "text": [
            "Number of X samples: 100\n",
            "Number of y samples: 100\n",
            "First 10 X & y samples:\n",
            "X: tensor([0.0000, 0.0100, 0.0200, 0.0300, 0.0400, 0.0500, 0.0600, 0.0700, 0.0800,\n",
            "        0.0900])\n",
            "y: tensor([0.9000, 0.9030, 0.9060, 0.9090, 0.9120, 0.9150, 0.9180, 0.9210, 0.9240,\n",
            "        0.9270])\n"
          ]
        }
      ],
      "source": [
        "# Create the data parameters\n",
        "weight = 0.3\n",
        "bias = 0.9\n",
        "\n",
        "# Make X and y using linear regression feature\n",
        "X = torch.arange(0,1,0.01)\n",
        "y = weight * X + bias\n",
        "\n",
        "print(f\"Number of X samples: {len(X)}\")\n",
        "print(f\"Number of y samples: {len(y)}\")\n",
        "print(f\"First 10 X & y samples:\\nX: {X[:10]}\\ny: {y[:10]}\")"
      ]
    },
    {
      "cell_type": "code",
      "execution_count": 4,
      "metadata": {
        "id": "GlwtT1djkmLw"
      },
      "outputs": [
        {
          "name": "stdout",
          "output_type": "stream",
          "text": [
            "Training set size: 80\n",
            "Testing set size: 20\n",
            "Training set size: 80\n",
            "Testing set size: 20\n"
          ]
        }
      ],
      "source": [
        "# Split the data into training and testing\n",
        "\n",
        "# train_size = int(0.8 * len(X))  # 80% \n",
        "\n",
        "# X_train, X_test = X[:train_size], X[train_size:]\n",
        "# y_train, y_test = y[:train_size], y[train_size:]\n",
        "\n",
        "#Random Splitting:\n",
        "indices = torch.randperm(len(X))  \n",
        "\n",
        "X_shuffled = X[indices]\n",
        "y_shuffled = y[indices]\n",
        "\n",
        "train_size = int(0.8 * len(X))  # 80% \n",
        "\n",
        "X_train, X_test = X_shuffled[:train_size], X_shuffled[train_size:]\n",
        "y_train, y_test = y_shuffled[:train_size], y_shuffled[train_size:]\n",
        "\n",
        "print(f\"Training set size: {len(X_train)}\")\n",
        "print(f\"Testing set size: {len(X_test)}\")\n",
        "\n",
        "print(f\"Training set size: {len(X_train)}\")\n",
        "print(f\"Testing set size: {len(X_test)}\")"
      ]
    },
    {
      "cell_type": "code",
      "execution_count": 5,
      "metadata": {
        "id": "29iQZFNhlYJ-"
      },
      "outputs": [
        {
          "data": {
            "image/png": "[encoded data removed]",
            "text/plain": [
              "<Figure size 640x480 with 1 Axes>"
            ]
          },
          "metadata": {},
          "output_type": "display_data"
        }
      ],
      "source": [
        "# Plot the training and testing data \n",
        "plt.scatter(X_train, y_train, label=\"Training Data\", color='blue', s=0.5)\n",
        "plt.scatter(X_test, y_test, label=\"Testing Data\", color='red', s=0.5)\n",
        "\n",
        "plt.xlabel(\"X values\")\n",
        "plt.ylabel(\"y values\")\n",
        "\n",
        "plt.legend()\n",
        "\n",
        "plt.show()"
      ]
    },
    {
      "cell_type": "markdown",
      "metadata": {
        "id": "ImZoe3v8jif8"
      },
      "source": [
        "## 2. Build a PyTorch model by subclassing `nn.Module`. \n",
        "  * Inside should be a randomly initialized `nn.Parameter()` with `requires_grad=True`, one for `weights` and one for `bias`. \n",
        "  * Implement the `forward()` method to compute the linear regression function you used to create the dataset in 1. \n",
        "  * Once you've constructed the model, make an instance of it and check its `state_dict()`.\n",
        "  * **Note:** If you'd like to use `nn.Linear()` instead of `nn.Parameter()` you can."
      ]
    },
    {
      "cell_type": "code",
      "execution_count": 6,
      "metadata": {
        "id": "qzd__Y5rjtB8"
      },
      "outputs": [],
      "source": [
        "# Create PyTorch linear regression model by subclassing nn.Module\n",
        "class LinearRegressionModel(nn.Module):\n",
        "    def __init__(self):\n",
        "        super(LinearRegressionModel, self).__init__()\n",
        "        \n",
        "        # Random initialization\n",
        "        self.weights = nn.Parameter(torch.randn(1))  \n",
        "        self.bias = nn.Parameter(torch.randn(1))    \n",
        "\n",
        "    def forward(self, x):\n",
        "        return self.weights * x + self.bias"
      ]
    },
    {
      "cell_type": "code",
      "execution_count": 7,
      "metadata": {
        "id": "5LdcDnmOmyQ2"
      },
      "outputs": [
        {
          "name": "stdout",
          "output_type": "stream",
          "text": [
            "Model's state_dict:\n",
            "weights: tensor([0.1127], device='mps:0')\n",
            "bias: tensor([0.8446], device='mps:0')\n"
          ]
        }
      ],
      "source": [
        "# Instantiate the model and put it to the target device\n",
        "model = LinearRegressionModel()\n",
        "model = model.to(device)\n",
        "\n",
        "print(\"Model's state_dict:\")\n",
        "for param_name, param_value in model.state_dict().items():\n",
        "    print(f\"{param_name}: {param_value}\")"
      ]
    },
    {
      "cell_type": "markdown",
      "metadata": {
        "id": "G6nYOrJhjtfu"
      },
      "source": [
        "## 3. Create a loss function and optimizer using `nn.L1Loss()` and `torch.optim.SGD(params, lr)` respectively. \n",
        "  * Set the learning rate of the optimizer to be 0.01 and the parameters to optimize should be the model parameters from the model you created in 2.\n",
        "  * Write a training loop to perform the appropriate training steps for 300 epochs.\n",
        "  * The training loop should test the model on the test dataset every 20 epochs."
      ]
    },
    {
      "cell_type": "code",
      "execution_count": 8,
      "metadata": {
        "id": "ltvoZ-FWjv1j"
      },
      "outputs": [],
      "source": [
        "# Create the loss function and optimizer\n",
        "loss_function = nn.L1Loss()\n",
        "\n",
        "# Create the optimizer (Stochastic Gradient Descent with learning rate 0.01)\n",
        "optimizer = optim.SGD(model.parameters(), lr=0.01)"
      ]
    },
    {
      "cell_type": "code",
      "execution_count": 9,
      "metadata": {
        "id": "xpE83NvNnkdV"
      },
      "outputs": [
        {
          "name": "stdout",
          "output_type": "stream",
          "text": [
            "Epoch: 0 | Train loss: 0.148 | Test loss: 0.134\n",
            "Epoch: 20 | Train loss: 0.026 | Test loss: 0.028\n",
            "Epoch: 40 | Train loss: 0.016 | Test loss: 0.018\n",
            "Epoch: 60 | Train loss: 0.007 | Test loss: 0.007\n",
            "Epoch: 80 | Train loss: 0.007 | Test loss: 0.006\n",
            "Epoch: 100 | Train loss: 0.007 | Test loss: 0.006\n",
            "Epoch: 120 | Train loss: 0.007 | Test loss: 0.006\n",
            "Epoch: 140 | Train loss: 0.007 | Test loss: 0.006\n",
            "Epoch: 160 | Train loss: 0.007 | Test loss: 0.006\n",
            "Epoch: 180 | Train loss: 0.007 | Test loss: 0.006\n",
            "Epoch: 200 | Train loss: 0.007 | Test loss: 0.006\n",
            "Epoch: 220 | Train loss: 0.007 | Test loss: 0.006\n",
            "Epoch: 240 | Train loss: 0.007 | Test loss: 0.006\n",
            "Epoch: 260 | Train loss: 0.007 | Test loss: 0.006\n",
            "Epoch: 280 | Train loss: 0.007 | Test loss: 0.006\n"
          ]
        }
      ],
      "source": [
        "# Training loop\n",
        "\n",
        "\n",
        "# Train model for 300 epochs\n",
        "epochs = 300\n",
        "\n",
        "# Send data to target device\n",
        "X_train, y_train = X_train.to(device), y_train.to(device)\n",
        "X_test, y_test = X_test.to(device), y_test.to(device)\n",
        "\n",
        "for epoch in range(epochs):\n",
        "  ### Training\n",
        "\n",
        "  # Put model in train mode\n",
        "  model.train()\n",
        "\n",
        "  # 1. Forward pass\n",
        "  predictions = model(X_train)\n",
        "\n",
        "  # 2. Calculate loss\n",
        "  loss = loss_function(predictions, y_train)\n",
        "\n",
        "  # 3. Zero gradients\n",
        "  optimizer.zero_grad()\n",
        "\n",
        "  # 4. Backpropagation\n",
        "  loss.backward()\n",
        "\n",
        "  # 5. Step the optimizer\n",
        "  optimizer.step()\n",
        "\n",
        "  ### Perform testing every 20 epochs\n",
        "  if epoch % 20 == 0:\n",
        "\n",
        "    # Put model in evaluation mode and setup inference context \n",
        "    model.eval()\n",
        "      # 1. Forward pass\n",
        "    with torch.no_grad():  # Disable gradients for testing\n",
        "            predictions_test = model(X_test)\n",
        "      \n",
        "      # 2. Calculate test loss\n",
        "    test_loss = loss_function(predictions_test, y_test)\n",
        "\n",
        "      # Print out what's happening\n",
        "    print(f\"Epoch: {epoch} | Train loss: {loss:.3f} | Test loss: {test_loss:.3f}\")"
      ]
    },
    {
      "cell_type": "markdown",
      "metadata": {
        "id": "x4j4TM18jwa7"
      },
      "source": [
        "## 4. Make predictions with the trained model on the test data.\n",
        "  * Visualize these predictions against the original training and testing data (**note:** you may need to make sure the predictions are *not* on the GPU if you want to use non-CUDA-enabled libraries such as matplotlib to plot)."
      ]
    },
    {
      "cell_type": "code",
      "execution_count": 10,
      "metadata": {
        "id": "bbMPK5Qjjyx_"
      },
      "outputs": [
        {
          "name": "stdout",
          "output_type": "stream",
          "text": [
            "Actual Vals: tensor([1.1430, 1.0770, 1.0200, 0.9840, 1.0650, 1.1730, 0.9090, 1.1520, 1.1790,\n",
            "        1.0830, 1.1370, 0.9330, 0.9630, 1.1850, 1.0890, 0.9210, 0.9990, 0.9300,\n",
            "        1.0170, 0.9720], device='mps:0')\n",
            "Predictions: [1.1494051  1.0837269  1.0270048  0.99118036 1.0717854  1.1792588\n",
            " 0.91654605 1.1583612  1.1852295  1.0896976  1.1434344  0.94042903\n",
            " 0.97028273 1.1912003  1.0956684  0.92848754 1.0061072  0.9374436\n",
            " 1.0240195  0.97923887]\n"
          ]
        }
      ],
      "source": [
        "# Make predictions with the model\n",
        "model.eval()\n",
        "\n",
        "with torch.no_grad():\n",
        "    predictions = model(X_test)  \n",
        "\n",
        "predictions = predictions.cpu().numpy()\n",
        "\n",
        "print(f\"Actual Vals: {y_test}\")\n",
        "print(f\"Predictions: {predictions}\")"
      ]
    },
    {
      "cell_type": "code",
      "execution_count": 12,
      "metadata": {
        "id": "K3BdmQaDpFo8"
      },
      "outputs": [
        {
          "data": {
            "image/png": "[encoded data removed]",
            "text/plain": [
              "<Figure size 640x480 with 1 Axes>"
            ]
          },
          "metadata": {},
          "output_type": "display_data"
        }
      ],
      "source": [
        "# Plot the predictions (these may need to be on a specific device)\n",
        "plt.scatter(X_test.cpu().numpy(), y_test.cpu().numpy(), label=\"True values\")  # True values\n",
        "plt.scatter(X_test.cpu().numpy(), predictions, label=\"Predicted values\", marker='x')  # Predicted values\n",
        "plt.xlabel('X values')\n",
        "plt.ylabel('y values')\n",
        "plt.legend()\n",
        "plt.title(\"True vs Predicted values\")\n",
        "plt.show()"
      ]
    },
    {
      "cell_type": "markdown",
      "metadata": {
        "id": "s2OnlMWKjzX8"
      },
      "source": [
        "## 5. Save your trained model's `state_dict()` to file.\n",
        "  * Create a new instance of your model class you made in 2. and load in the `state_dict()` you just saved to it.\n",
        "  * Perform predictions on your test data with the loaded model and confirm they match the original model predictions from 4."
      ]
    },
    {
      "cell_type": "code",
      "execution_count": 13,
      "metadata": {
        "id": "hgxhgD14qr-i"
      },
      "outputs": [
        {
          "name": "stdout",
          "output_type": "stream",
          "text": [
            "Model saved to: models/linear_regression_model.pth\n"
          ]
        }
      ],
      "source": [
        "from pathlib import Path\n",
        "\n",
        "# 1. Create models directory \n",
        "models_dir = Path(\"models\")\n",
        "models_dir.mkdir(parents=True, exist_ok=True)\n",
        "\n",
        "# 2. Create model save path \n",
        "model_save_path = models_dir / \"linear_regression_model.pth\"\n",
        "\n",
        "# 3. Save the model state dict\n",
        "torch.save(model.state_dict(), model_save_path)\n",
        "print(f\"Model saved to: {model_save_path}\")"
      ]
    },
    {
      "cell_type": "code",
      "execution_count": 14,
      "metadata": {
        "id": "P9vTgiLRrJ7T"
      },
      "outputs": [
        {
          "name": "stderr",
          "output_type": "stream",
          "text": [
            "/var/folders/n5/t_572v5x0196dplmfjx1gzcc0000gn/T/ipykernel_7946/171894895.py:3: FutureWarning: You are using `torch.load` with `weights_only=False` (the current default value), which uses the default pickle module implicitly. It is possible to construct malicious pickle data which will execute arbitrary code during unpickling (See https://github.com/pytorch/pytorch/blob/main/SECURITY.md#untrusted-models for more details). In a future release, the default value for `weights_only` will be flipped to `True`. This limits the functions that could be executed during unpickling. Arbitrary objects will no longer be allowed to be loaded via this mode unless they are explicitly allowlisted by the user via `torch.serialization.add_safe_globals`. We recommend you start setting `weights_only=True` for any use case where you don't have full control of the loaded file. Please open an issue on GitHub for any issues related to this experimental feature.\n",
            "  load_model.load_state_dict(torch.load(model_save_path))\n"
          ]
        },
        {
          "data": {
            "text/plain": [
              "LinearRegressionModel()"
            ]
          },
          "execution_count": 14,
          "metadata": {},
          "output_type": "execute_result"
        }
      ],
      "source": [
        "# Create new instance of model and load saved state dict (make sure to put it on the target device)\n",
        "load_model = LinearRegressionModel()\n",
        "load_model.load_state_dict(torch.load(model_save_path))\n",
        "\n",
        "load_model.to(device)"
      ]
    },
    {
      "cell_type": "code",
      "execution_count": 16,
      "metadata": {
        "id": "8UGX3VebrVtI"
      },
      "outputs": [
        {
          "name": "stdout",
          "output_type": "stream",
          "text": [
            "tensor([1.1494, 1.0837, 1.0270, 0.9912, 1.0718, 1.1793, 0.9165, 1.1584, 1.1852,\n",
            "        1.0897, 1.1434, 0.9404, 0.9703, 1.1912, 1.0957, 0.9285, 1.0061, 0.9374,\n",
            "        1.0240, 0.9792], device='mps:0')\n",
            "tensor([1.1494, 1.0837, 1.0270, 0.9912, 1.0718, 1.1793, 0.9165, 1.1584, 1.1852,\n",
            "        1.0897, 1.1434, 0.9404, 0.9703, 1.1912, 1.0957, 0.9285, 1.0061, 0.9374,\n",
            "        1.0240, 0.9792], device='mps:0')\n"
          ]
        }
      ],
      "source": [
        "# Make predictions with loaded model and compare them to the previous\n",
        "model.eval()\n",
        "load_model.eval()\n",
        "\n",
        "with torch.no_grad():\n",
        "    original_preds = model(X_test)\n",
        "\n",
        "with torch.no_grad():\n",
        "    loaded_preds = load_model(X_test)\n",
        "\n",
        "print(original_preds)\n",
        "print(loaded_preds)"
      ]
    },
    {
      "cell_type": "code",
      "execution_count": null,
      "metadata": {},
      "outputs": [],
      "source": []
    }
  ],
  "metadata": {
    "accelerator": "GPU",
    "colab": {
      "authorship_tag": "ABX9TyNYzatJtFkfUqqdiR6rYwVL",
      "collapsed_sections": [],
      "include_colab_link": true,
      "name": "01_pytorch_workflow_exercises.ipynb",
      "provenance": []
    },
    "kernelspec": {
      "display_name": "mactorch",
      "language": "python",
      "name": "python3"
    },
    "language_info": {
      "codemirror_mode": {
        "name": "ipython",
        "version": 3
      },
      "file_extension": ".py",
      "mimetype": "text/x-python",
      "name": "python",
      "nbconvert_exporter": "python",
      "pygments_lexer": "ipython3",
      "version": "3.12.4"
    }
  },
  "nbformat": 4,
  "nbformat_minor": 0
}
